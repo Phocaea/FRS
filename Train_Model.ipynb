{
 "cells": [
  {
   "cell_type": "code",
   "execution_count": 1,
   "metadata": {},
   "outputs": [],
   "source": [
    "import os\n",
    "import cv2\n",
    "import numpy as np\n",
    "\n",
    "from PIL import Image"
   ]
  },
  {
   "cell_type": "code",
   "execution_count": 2,
   "metadata": {},
   "outputs": [],
   "source": [
    "names = []\n",
    "paths = []\n",
    "\n",
    "for users in os.listdir(\"DataSet\"):\n",
    "    names.append(users)\n",
    "    \n",
    "for name in names:\n",
    "    for image in os.listdir(\"DataSet/{}\".format(name)):\n",
    "        path_string = os.path.join(\"DataSet\\{}\".format(name),image)\n",
    "        paths.append(path_string)\n",
    "        "
   ]
  },
  {
   "cell_type": "code",
   "execution_count": 3,
   "metadata": {},
   "outputs": [
    {
     "name": "stdout",
     "output_type": "stream",
     "text": [
      "1\n",
      "1\n",
      "1\n",
      "1\n",
      "1\n",
      "1\n",
      "1\n",
      "1\n",
      "1\n",
      "1\n",
      "3\n",
      "3\n",
      "3\n",
      "3\n",
      "3\n",
      "3\n",
      "3\n",
      "3\n",
      "3\n",
      "3\n",
      "2\n",
      "2\n",
      "2\n",
      "2\n",
      "2\n",
      "2\n",
      "2\n",
      "2\n",
      "2\n",
      "2\n"
     ]
    }
   ],
   "source": [
    "faces =[]\n",
    "ids = []\n",
    "\n",
    "for image_path in paths:\n",
    "    image = Image.open(image_path).convert(\"L\")\n",
    "    \n",
    "    imgnp = np.array(image,\"uint8\")\n",
    "    imageNp = cv2.resize(imgnp,(300,300))\n",
    "    equalized_img = cv2.equalizeHist(imageNp)\n",
    "        \n",
    "    faces.append(equalized_img)\n",
    "    \n",
    "    id = int(image_path.split(\"\\\\\")[2].split(\"_\")[1])\n",
    "    print(id)\n",
    "                              \n",
    "    ids.append(id)\n",
    "\n",
    "ids = np.array(ids)\n",
    "\n",
    "trainer = cv2.face.LBPHFaceRecognizer_create()\n",
    "trainer.train(faces,ids)\n",
    "trainer.write(\"training.yml\")"
   ]
  },
  {
   "cell_type": "code",
   "execution_count": null,
   "metadata": {},
   "outputs": [],
   "source": []
  }
 ],
 "metadata": {
  "kernelspec": {
   "display_name": "Python 3",
   "language": "python",
   "name": "python3"
  },
  "language_info": {
   "codemirror_mode": {
    "name": "ipython",
    "version": 3
   },
   "file_extension": ".py",
   "mimetype": "text/x-python",
   "name": "python",
   "nbconvert_exporter": "python",
   "pygments_lexer": "ipython3",
   "version": "3.7.9"
  }
 },
 "nbformat": 4,
 "nbformat_minor": 4
}
