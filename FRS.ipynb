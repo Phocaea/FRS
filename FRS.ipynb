{
 "cells": [
  {
   "cell_type": "code",
   "execution_count": 1,
   "metadata": {},
   "outputs": [],
   "source": [
    "from PIL import Image\n",
    "import tensorflow as tf\n",
    "import matplotlib.pyplot as plt\n",
    "import numpy\n",
    "import os\n",
    "import cv2\n",
    "import glob"
   ]
  },
  {
   "cell_type": "code",
   "execution_count": 2,
   "metadata": {},
   "outputs": [],
   "source": [
    "faceCascade = cv2.CascadeClassifier(\"haarcascade.xml\")"
   ]
  },
  {
   "cell_type": "code",
   "execution_count": null,
   "metadata": {},
   "outputs": [],
   "source": [
    "recognizer = cv2.face.LBPHFaceRecognizer_create()\n",
    "recognizer.read(\"training.yml\")\n",
    "\n",
    "names=[]\n",
    "\n",
    "#DataDir = \"Dataset/Teh/Teh_2_4.jpg\"\n",
    "DataDir = \"Dataset/Lee/Lee_1_4.jpg\"\n",
    "img = cv2.imread(DataDir)\n",
    "\n",
    "for users in os.listdir(\"DataSet\"):\n",
    "    names.append(users)\n",
    "\n",
    "# draw an image with detected objects\n",
    "while True:\n",
    "    # load the image\n",
    "    gray = cv2.cvtColor(img,cv2.COLOR_BGR2GRAY)\n",
    "    Sharp = cv2.equalizeHist(gray)\n",
    "    # plot the image\n",
    "    faces= faceCascade.detectMultiScale(Sharp,scaleFactor = 1.05, minNeighbors = 5)\n",
    "    # plot each box\n",
    "    for (x, y, width, height) in faces:\n",
    "        # get coordinates\n",
    "        # create the shape\n",
    "        cv2.rectangle(img,(x,y),(x+width,y+height),(255,0,0),2)\n",
    "        id, _ = recognizer.predict(gray[y:y+height,x:x+width])\n",
    "        if id:\n",
    "            cv2.putText(img,names[id-1],(x,y-4),cv2.FONT_ITALIC,1,(0,255,0),1)\n",
    "        else:\n",
    "            cv2.putText(img,'Unknown',(x,y-4),cv2.FONT_ITALIC,1,(0,255,0),1)\n",
    "    # show the plot\n",
    "    cv2.imshow(\"recog\",img)\n",
    "    cv2.waitKey()\n",
    "\n",
    "cv2.destroyAllWindows()"
   ]
  },
  {
   "cell_type": "code",
   "execution_count": null,
   "metadata": {},
   "outputs": [],
   "source": []
  },
  {
   "cell_type": "code",
   "execution_count": null,
   "metadata": {},
   "outputs": [],
   "source": []
  }
 ],
 "metadata": {
  "kernelspec": {
   "display_name": "Python 3",
   "language": "python",
   "name": "python3"
  },
  "language_info": {
   "codemirror_mode": {
    "name": "ipython",
    "version": 3
   },
   "file_extension": ".py",
   "mimetype": "text/x-python",
   "name": "python",
   "nbconvert_exporter": "python",
   "pygments_lexer": "ipython3",
   "version": "3.7.9"
  }
 },
 "nbformat": 4,
 "nbformat_minor": 4
}
